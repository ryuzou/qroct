{
 "cells": [
  {
   "cell_type": "code",
   "execution_count": 157,
   "metadata": {
    "collapsed": true
   },
   "outputs": [],
   "source": [
    "import janome\n",
    "import MeCab\n",
    "import pandas as pd\n",
    "import matplotlib.pyplot as plt\n",
    "import matplotlib\n",
    "import numpy as np\n",
    "from scipy import stats as st\n",
    "\n",
    "plt.rcParams[\"font.family\"] = \"MS Gothic\"\n",
    "\n",
    "n0 = pd.read_csv(\"data/n0.csv\")\n",
    "n1 = pd.read_csv(\"data/n1.csv\")\n",
    "n2 = pd.read_csv(\"data/n2.csv\")\n",
    "n3 = pd.read_csv(\"data/n3.csv\")\n",
    "u0 = pd.read_csv(\"data/u0.csv\")\n",
    "u1 = pd.read_csv(\"data/u1.csv\")\n",
    "u2 = pd.read_csv(\"data/u2.csv\")\n",
    "u3 = pd.read_csv(\"data/u3.csv\")\n",
    "normal_pd = n0.append(n1).append(n2).append(n3)\n",
    "unnormal_pd = u0.append(u1).append(u2).append(u3)"
   ]
  },
  {
   "cell_type": "code",
   "execution_count": 158,
   "outputs": [],
   "source": [
    "def hinshiCount(text):\n",
    "    tagger = MeCab.Tagger(\"-Ochasen\")\n",
    "    tagger.parse('')\n",
    "    node = tagger.parseToNode(text)\n",
    "    hinshiDict = {\"名詞\":0, \"動詞\":0, \"形容詞\":0, \"副詞\":0, \"助詞\":0, \"接続詞\": 0, \"助動詞\":0, \"連体詞\":0, \"感動詞\":0, \"*\":0 }\n",
    "    total_hinshi = 0\n",
    "    while node:\n",
    "        total_hinshi = total_hinshi + 1\n",
    "        wclass = node.feature.split(',')\n",
    "        if wclass[0] != u'BOS/EOS':\n",
    "            if wclass[0] not in hinshiDict.keys():\n",
    "                hinshiDict[\"*\"] = hinshiDict[\"*\"] + 1\n",
    "            else:\n",
    "                hinshiDict[wclass[0]] = hinshiDict[wclass[0]] + 1\n",
    "        node = node.next\n",
    "    for hinshi in hinshiDict:\n",
    "        if not hinshiDict[hinshi] == 0:\n",
    "            hinshiDict[hinshi] = hinshiDict[hinshi] / total_hinshi\n",
    "    return hinshiDict"
   ],
   "metadata": {
    "collapsed": false,
    "pycharm": {
     "name": "#%%\n"
    }
   }
  },
  {
   "cell_type": "code",
   "execution_count": 159,
   "outputs": [],
   "source": [
    "def hinshipd(pd):\n",
    "    pd[\"名詞\"] = pd[\"text\"].map(lambda x: hinshiCount(x)[\"名詞\"])\n",
    "    pd[\"動詞\"] = pd[\"text\"].map(lambda x: hinshiCount(x)[\"動詞\"])\n",
    "    pd[\"形容詞\"] = pd[\"text\"].map(lambda x: hinshiCount(x)[\"形容詞\"])\n",
    "    pd[\"副詞\"] = pd[\"text\"].map(lambda x: hinshiCount(x)[\"副詞\"])\n",
    "    pd[\"助詞\"] = pd[\"text\"].map(lambda x: hinshiCount(x)[\"助詞\"])\n",
    "    pd[\"接続詞\"] = pd[\"text\"].map(lambda x: hinshiCount(x)[\"接続詞\"])\n",
    "    pd[\"助動詞\"] = pd[\"text\"].map(lambda x: hinshiCount(x)[\"助動詞\"])\n",
    "    pd[\"連体詞\"] = pd[\"text\"].map(lambda x: hinshiCount(x)[\"連体詞\"])\n",
    "    pd[\"感動詞\"] = pd[\"text\"].map(lambda x: hinshiCount(x)[\"感動詞\"])\n",
    "    pd[\"他の品詞\"] = pd[\"text\"].map(lambda x: hinshiCount(x)[\"*\"])\n",
    "    return pd\n",
    "\n",
    "\n",
    "normal_pd = hinshipd(normal_pd)\n",
    "unnormal_pd = hinshipd(unnormal_pd)"
   ],
   "metadata": {
    "collapsed": false,
    "pycharm": {
     "name": "#%%\n"
    }
   }
  },
  {
   "cell_type": "code",
   "execution_count": 160,
   "outputs": [
    {
     "data": {
      "text/plain": "<Figure size 432x288 with 1 Axes>",
      "image/png": "[encoded data removed]"
     },
     "metadata": {
      "needs_background": "light"
     },
     "output_type": "display_data"
    }
   ],
   "source": [
    "hinshis = [\"名詞\", \"動詞\", \"形容詞\", \"副詞\", \"接続詞\", \"助動詞\", \"連体詞\", \"感動詞\", \"他の品詞\"]\n",
    "def pltHinshiBar(hinshipd):\n",
    "    plt.bar(hinshis, [hinshipd[hinshivalue].mean() for hinshivalue in hinshis])\n",
    "    plt.xlabel(\"品詞の種類\")\n",
    "    plt.ylabel(\"頻度\")\n",
    "    return plt\n",
    "\n",
    "fig1 = pltHinshiBar(normal_pd)\n",
    "fig1.savefig(\"images/fig1.png\")\n",
    "fig2 = pltHinshiBar(unnormal_pd)\n",
    "fig2.savefig(\"images/fig2.png\")"
   ],
   "metadata": {
    "collapsed": false,
    "pycharm": {
     "name": "#%%\n"
    }
   }
  },
  {
   "cell_type": "code",
   "execution_count": 161,
   "outputs": [
    {
     "data": {
      "text/plain": "<Figure size 432x288 with 1 Axes>",
      "image/png": "[encoded data removed]"
     },
     "metadata": {
      "needs_background": "light"
     },
     "output_type": "display_data"
    }
   ],
   "source": [
    "h1 = [normal_pd[hinshivalue].mean() for hinshivalue in hinshis]\n",
    "h2 = [unnormal_pd[hinshivalue].mean() for hinshivalue in hinshis]\n",
    "\n",
    "x = np.arange(len(hinshis))  # the label locations\n",
    "width = 0.35  # the width of the bars\n",
    "\n",
    "fig, ax = plt.subplots()\n",
    "rects1 = ax.bar(x - width/2, h1, width, label='一般的なキーワードでの結果')\n",
    "rects2 = ax.bar(x + width/2, h2, width, label='陰謀論的なキーワードでの結果')\n",
    "\n",
    "ax.set_xticks(x)\n",
    "ax.set_xticklabels(hinshis)\n",
    "ax.legend()\n",
    "\n",
    "\n",
    "fig.tight_layout()\n",
    "\n",
    "plt.savefig(\"images/fig3.png\")"
   ],
   "metadata": {
    "collapsed": false,
    "pycharm": {
     "name": "#%%\n"
    }
   }
  },
  {
   "cell_type": "code",
   "execution_count": 162,
   "outputs": [
    {
     "name": "stderr",
     "output_type": "stream",
     "text": [
      "<ipython-input-162-d90ee33a21eb>:10: UserWarning: Matplotlib is currently using module://ipykernel.pylab.backend_inline, which is a non-GUI backend, so cannot show the figure.\n",
      "  fig4.show()\n"
     ]
    },
    {
     "data": {
      "text/plain": "<Figure size 432x288 with 1 Axes>",
      "image/png": "[encoded data removed]"
     },
     "metadata": {
      "needs_background": "light"
     },
     "output_type": "display_data"
    }
   ],
   "source": [
    "meishi_normal = normal_pd[\"名詞\"].tolist()\n",
    "meishi_unnormal = unnormal_pd[\"名詞\"].tolist()\n",
    "\n",
    "fig4 = plt.figure()\n",
    "aax = fig4.add_subplot(111)\n",
    "\n",
    "aax.hist(meishi_normal, bins=50, color='red',label=\"一般的なキーワードでの結果\", alpha=0.5)\n",
    "aax.hist(meishi_unnormal, bins=50, color='blue',label='陰謀論的なキーワードでの結果', alpha=0.5)\n",
    "aax.set_title(\"赤:一般的なキーワードでの結果,青:陰謀論的なキーワードでの結果\")\n",
    "fig4.show()\n",
    "fig4.tight_layout()\n",
    "\n",
    "plt.savefig(\"images/fig4.png\")"
   ],
   "metadata": {
    "collapsed": false,
    "pycharm": {
     "name": "#%%\n"
    }
   }
  },
  {
   "cell_type": "code",
   "execution_count": 166,
   "outputs": [
    {
     "name": "stdout",
     "output_type": "stream",
     "text": [
      "p値 = 0.026\n",
      "t値 = -2.24\n",
      "平均値の差   = 0.05\n",
      "差の標準誤差 = -0.02\n",
      "平均値の差の95%信頼区間CI = [nan , nan]\n",
      "0.019895917605905235\n",
      "0.02146658484245757\n"
     ]
    }
   ],
   "source": [
    "xa = pd.Series(meishi_normal[0:76])\n",
    "xb = pd.Series(meishi_unnormal)\n",
    "\n",
    "t, p = st.ttest_ind(xa, xb, equal_var=True)\n",
    "MU = abs(xa.mean()-xb.mean())\n",
    "SE =  MU/t\n",
    "DF = len(xa)+len(xb)-2\n",
    "CI = st.t.interval( alpha=0.95, loc=MU, scale=SE, df=DF )\n",
    "\n",
    "print(f'p値 = {p:.3f}')\n",
    "print(f't値 = {t:.2f}')\n",
    "print(f'平均値の差   = {MU:.2f}')\n",
    "print(f'差の標準誤差 = {SE:.2f}')\n",
    "print(f'平均値の差の95%信頼区間CI = [{CI[0]:.2f} , {CI[1]:.2f}]')\n",
    "\n",
    "print(np.var(meishi_normal))\n",
    "print(np.var(meishi_unnormal))"
   ],
   "metadata": {
    "collapsed": false,
    "pycharm": {
     "name": "#%%\n"
    }
   }
  }
 ],
 "metadata": {
  "kernelspec": {
   "display_name": "Python 3",
   "language": "python",
   "name": "python3"
  },
  "language_info": {
   "codemirror_mode": {
    "name": "ipython",
    "version": 2
   },
   "file_extension": ".py",
   "mimetype": "text/x-python",
   "name": "python",
   "nbconvert_exporter": "python",
   "pygments_lexer": "ipython2",
   "version": "2.7.6"
  }
 },
 "nbformat": 4,
 "nbformat_minor": 0
}