{
 "cells": [
  {
   "cell_type": "code",
   "execution_count": 60,
   "metadata": {
    "collapsed": true
   },
   "outputs": [],
   "source": [
    "import json\n",
    "import tweepy\n",
    "import sys\n",
    "import time\n",
    "import pandas as pd\n",
    "from requests_oauthlib import OAuth1Session\n",
    "import json\n",
    "\n",
    "keys = json.load(open(\"secrets.json\"))"
   ]
  },
  {
   "cell_type": "code",
   "execution_count": 61,
   "outputs": [],
   "source": [
    "consumer_key = keys[\"twitter_api_key\"]\n",
    "consumer_secret = keys[\"twitter_api_secret_key\"]\n",
    "token_key = keys[\"twitter_api_access_token\"]\n",
    "token_secret = keys[\"twitter_api_access_token_secret\"]\n",
    "\n",
    "auth = tweepy.OAuthHandler(consumer_key, consumer_secret)\n",
    "auth.set_access_token(token_key, token_secret)\n",
    "api = tweepy.API(auth, wait_on_rate_limit=True)\n",
    "\n",
    "oath = OAuth1Session(consumer_key,\n",
    "                     consumer_secret,\n",
    "                     token_key,\n",
    "                     token_secret\n",
    "                     )\n",
    "\n",
    "\n",
    "def tweet_search(search_word):\n",
    "    url = \"https://api.twitter.com/1.1/search/tweets.json?\"\n",
    "    params = {\n",
    "        \"q\": search_word,\n",
    "        \"lang\": \"ja\",\n",
    "        \"result_type\": \"recent\",\n",
    "        \"count\": \"20\"\n",
    "    }\n",
    "    responce = oath.get(url, params=params)\n",
    "    print(responce)\n",
    "    if responce.status_code != 200:\n",
    "        print\n",
    "        \"Error code: %d\" % (responce.status_code)\n",
    "        return None\n",
    "    tweets = json.loads(responce.text)\n",
    "    return tweets"
   ],
   "metadata": {
    "collapsed": false,
    "pycharm": {
     "name": "#%%\n"
    }
   }
  },
  {
   "cell_type": "code",
   "execution_count": 62,
   "outputs": [],
   "source": [
    "normal_keywords = [\"ワクチン AND 2回目\", \"医療崩壊\", \"医療\", \"ワクチン\"]\n",
    "unnormal_keywords = [\"ワクチン AND 人口削減\", \"コロナ AND 茶番\", \"枠珍\", \"コロナ脳\"]\n",
    "exclude_retweets = \" -filter:retweets AND -filter:replies\""
   ],
   "metadata": {
    "collapsed": false,
    "pycharm": {
     "name": "#%%\n"
    }
   }
  },
  {
   "cell_type": "code",
   "execution_count": 63,
   "outputs": [
    {
     "name": "stdout",
     "output_type": "stream",
     "text": [
      "<Response [200]>\n",
      "<Response [200]>\n",
      "<Response [200]>\n",
      "<Response [200]>\n"
     ]
    }
   ],
   "source": [
    "c = 0\n",
    "for normal_keyword in normal_keywords:\n",
    "    q_n = normal_keyword + exclude_retweets\n",
    "    tweets_data_n = tweet_search(q_n)\n",
    "    tweets_data_n_pd = pd.DataFrame(tweets_data_n[\"statuses\"])\n",
    "    tweets_data_n_pd.to_csv(str(\"data/n\" + str(c) + \".csv\"))\n",
    "    c = c + 1"
   ],
   "metadata": {
    "collapsed": false,
    "pycharm": {
     "name": "#%%\n"
    }
   }
  },
  {
   "cell_type": "code",
   "execution_count": 64,
   "outputs": [
    {
     "name": "stdout",
     "output_type": "stream",
     "text": [
      "<Response [200]>\n",
      "<Response [200]>\n",
      "<Response [200]>\n",
      "<Response [200]>\n"
     ]
    }
   ],
   "source": [
    "c = 0\n",
    "for unnormal_keyword in unnormal_keywords:\n",
    "    q_u = unnormal_keyword + exclude_retweets\n",
    "    tweets_data_u = tweet_search(q_u)\n",
    "    tweets_data_u_pd = pd.DataFrame(tweets_data_u[\"statuses\"])\n",
    "    tweets_data_u_pd.to_csv(str(\"data/u\" + str(c) + \".csv\"))\n",
    "    c = c + 1"
   ],
   "metadata": {
    "collapsed": false,
    "pycharm": {
     "name": "#%%\n"
    }
   }
  },
  {
   "cell_type": "code",
   "execution_count": 64,
   "outputs": [],
   "source": [],
   "metadata": {
    "collapsed": false,
    "pycharm": {
     "name": "#%%\n"
    }
   }
  }
 ],
 "metadata": {
  "kernelspec": {
   "display_name": "Python 3",
   "language": "python",
   "name": "python3"
  },
  "language_info": {
   "codemirror_mode": {
    "name": "ipython",
    "version": 2
   },
   "file_extension": ".py",
   "mimetype": "text/x-python",
   "name": "python",
   "nbconvert_exporter": "python",
   "pygments_lexer": "ipython2",
   "version": "2.7.6"
  }
 },
 "nbformat": 4,
 "nbformat_minor": 0
}